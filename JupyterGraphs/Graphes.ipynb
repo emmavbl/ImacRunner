{
 "cells": [
  {
   "cell_type": "markdown",
   "id": "39ccf11b-74aa-4695-89e9-e7d43ac7ae54",
   "metadata": {},
   "source": [
    "On commence par importer les librairies nécessaires  : "
   ]
  },
  {
   "cell_type": "code",
   "execution_count": 1,
   "id": "dd4e97d8-7271-433f-b586-ad08b26246ad",
   "metadata": {},
   "outputs": [],
   "source": [
    "import random\n",
    "import statistics as stat\n",
    "import math\n",
    "import numpy as np\n",
    "import matplotlib.pyplot as plt\n",
    "\n",
    "import json\n",
    "\n",
    "with open('gamedata.json') as json_file:\n",
    "    data = json.load(json_file) #On charge le fichier json, il sera utile pour tout le reste du fichier\n",
    "    \n",
    "    ##{\"coins\":[],\"coinsPicked\":[],\"levelsSpawned\":[],\"amountOfTilesGenerated\":[],\"coinPositions\":[],\"obstaclePositions\":[]}"
   ]
  },
  {
   "cell_type": "markdown",
   "id": "1ccd626e-56bf-4a0a-8992-eb70d6922245",
   "metadata": {},
   "source": [
    "Ensuite on trace nos graphes : "
   ]
  },
  {
   "cell_type": "markdown",
   "id": "896e17b2-2c60-45fb-933b-0b337081d17e",
   "metadata": {},
   "source": [
    "Loi uniforme"
   ]
  },
  {
   "cell_type": "code",
   "execution_count": 8,
   "id": "19244b5c-44e4-4619-8439-7306ac20586a",
   "metadata": {},
   "outputs": [
    {
     "data": {
      "image/png": "[encoded data removed]",
      "text/plain": [
       "<Figure size 432x288 with 1 Axes>"
      ]
     },
     "metadata": {
      "needs_background": "light"
     },
     "output_type": "display_data"
    }
   ],
   "source": [
    "\n",
    "CP = data['coinsPicked']\n",
    "\n",
    "uniformRange = np.arange(len(CP))\n",
    "_ = plt.hist(CP, uniformRange)\n",
    "plt.show()"
   ]
  },
  {
   "cell_type": "markdown",
   "id": "8bfdefc1-489b-435a-af94-ae545f92d7d8",
   "metadata": {},
   "source": [
    "Bernoulli"
   ]
  },
  {
   "cell_type": "code",
   "execution_count": null,
   "id": "e11029f7-1b5d-4e6a-b28e-c510b0c26ef8",
   "metadata": {},
   "outputs": [],
   "source": [
    "LS = data['levelsSpawned']\n",
    "\n",
    "bernoulliRange = np.arange(len(LS))\n",
    "_ = plt.hist(LS, bernoulliRange)\n",
    "plt.show()"
   ]
  },
  {
   "cell_type": "markdown",
   "id": "fbd046c6-52d2-4865-83ee-ef047af18ba0",
   "metadata": {},
   "source": [
    "La loi géométrique : "
   ]
  },
  {
   "cell_type": "code",
   "execution_count": 2,
   "id": "b2f6a71d-f064-4378-9539-4d2807fa73a8",
   "metadata": {},
   "outputs": [
    {
     "data": {
      "image/png": "[encoded data removed]",
      "text/plain": [
       "<Figure size 432x288 with 1 Axes>"
      ]
     },
     "metadata": {
      "needs_background": "light"
     },
     "output_type": "display_data"
    }
   ],
   "source": [
    "L = data['amountOfTilesGenerated']\n",
    "\n",
    "geomRange = np.arange(len(L))\n",
    "plt.plot(geomRange, L)\n",
    "plt.show()\n"
   ]
  },
  {
   "cell_type": "markdown",
   "id": "df46312a-e127-4eba-8395-9c9ea23730f7",
   "metadata": {},
   "source": [
    "La loi binomiale (occurence des sorties)"
   ]
  },
  {
   "cell_type": "code",
   "execution_count": 5,
   "id": "a7c2edd6-a9c2-482e-be76-40bc933a4d33",
   "metadata": {},
   "outputs": [
    {
     "name": "stdout",
     "output_type": "stream",
     "text": [
      "[]\n"
     ]
    },
    {
     "data": {
      "image/png": "[encoded data removed]",
      "text/plain": [
       "<Figure size 432x288 with 1 Axes>"
      ]
     },
     "metadata": {
      "needs_background": "light"
     },
     "output_type": "display_data"
    }
   ],
   "source": [
    "\n",
    "K = data['coinPositions']\n",
    "\n",
    "print(K)\n",
    "J = np.arange(18)\n",
    "_ = plt.hist(K, J)\n",
    "plt.show()\n"
   ]
  },
  {
   "cell_type": "code",
   "execution_count": 7,
   "id": "838b5b02-89b1-4b1a-8bf3-8c2c345389da",
   "metadata": {},
   "outputs": [
    {
     "data": {
      "image/png": "[encoded data removed]",
      "text/plain": [
       "<Figure size 432x288 with 1 Axes>"
      ]
     },
     "metadata": {
      "needs_background": "light"
     },
     "output_type": "display_data"
    }
   ],
   "source": [
    "#get position of obstacle --> Poisson\n",
    "# return gameObject\n",
    "\n",
    "P = data['obstaclePositions']\n",
    "\n",
    "poissRange = np.arange(len(P))\n",
    "_ = plt.hist(P, poissRange)\n",
    "\n",
    "plt.show()"
   ]
  },
  {
   "cell_type": "code",
   "execution_count": null,
   "id": "7c80deba-cdea-47cd-a78c-67f45d67afde",
   "metadata": {},
   "outputs": [],
   "source": []
  }
 ],
 "metadata": {
  "kernelspec": {
   "display_name": "Python 3",
   "language": "python",
   "name": "python3"
  },
  "language_info": {
   "codemirror_mode": {
    "name": "ipython",
    "version": 3
   },
   "file_extension": ".py",
   "mimetype": "text/x-python",
   "name": "python",
   "nbconvert_exporter": "python",
   "pygments_lexer": "ipython3",
   "version": "3.9.2"
  }
 },
 "nbformat": 4,
 "nbformat_minor": 5
}
